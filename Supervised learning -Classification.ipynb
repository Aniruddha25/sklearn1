{
 "cells": [
  {
   "cell_type": "code",
   "execution_count": 15,
   "metadata": {},
   "outputs": [
    {
     "data": {
      "image/png": "[encoded data removed]",
      "text/plain": [
       "<Figure size 432x288 with 1 Axes>"
      ]
     },
     "metadata": {},
     "output_type": "display_data"
    },
    {
     "name": "stdout",
     "output_type": "stream",
     "text": [
      "[0 1 0 0 0 1 0 0 0 0 1 0 1 1 0 0 0 0 1 0 0 0 0 0 1 0 0 1 1 1]\n",
      "[0 1 1 0 0 1 0 0 1 0 1 0 1 1 0 0 0 0 1 1 0 0 0 1 1 0 1 1 1 1]\n",
      "Accuracy\n",
      "0.7714285714285715\n",
      "0.8333333333333334\n",
      "[[ 0.24972328 -0.56480288]]\n",
      "[1.02669014]\n"
     ]
    }
   ],
   "source": [
    "from sklearn.datasets import make_blobs\n",
    "import matplotlib.pyplot as plt\n",
    "import numpy as np\n",
    "import math\n",
    "from sklearn.model_selection import train_test_split\n",
    "from sklearn.linear_model import LogisticRegression\n",
    "from sklearn.neighbors import KNeighborsClassifier\n",
    "\n",
    "\n",
    "X,y= make_blobs(centers=2,random_state=0,cluster_std=2)\n",
    "X_train,X_test,y_train,y_test=train_test_split(X,y,train_size=0.7,test_size=0.3,stratify=y)\n",
    "\n",
    "plt.scatter(X[y==0,0],X[y==0,1],color='green',s=40,label='0')\n",
    "\n",
    "plt.scatter(X[y==1,0],X[y==1,1],color='red',s=40,label='1',marker='s')\n",
    "\n",
    "plt.xlabel('first feature')\n",
    "plt.ylabel('second feature')\n",
    "plt.legend()\n",
    "plt.show()\n",
    "\n",
    "\n",
    "classifier=LogisticRegression()\n",
    "classifier.fit(X_train,y_train)\n",
    "a=classifier.predict(X_test)\n",
    "print(a)\n",
    "b=y_test\n",
    "print(b)\n",
    "\n",
    "\n",
    "\n",
    "\n",
    "print('Accuracy')\n",
    "print(classifier.score(X_train,y_train))\n",
    "print(classifier.score(X_test,y_test))\n",
    "print(classifier.coef_)\n",
    "print(classifier.intercept_)\n",
    "\n",
    "\n",
    "\n",
    "\n",
    "\n"
   ]
  },
  {
   "cell_type": "code",
   "execution_count": 13,
   "metadata": {},
   "outputs": [
    {
     "name": "stdout",
     "output_type": "stream",
     "text": [
      "Training data\n",
      "Training points\n",
      "[[1.94052066 0.85388166]\n",
      " [2.24202342 0.98826813]\n",
      " [2.24756172 1.04571514]\n",
      " [1.20324554 4.15835076]\n",
      " [1.98783426 0.90084672]\n",
      " [2.11667546 0.98988433]\n",
      " [1.00757685 4.21837775]\n",
      " [1.95524599 0.74318655]\n",
      " [0.93595238 4.42603183]\n",
      " [2.02846718 0.9779093 ]\n",
      " [2.13244658 0.98001408]\n",
      " [1.99168291 0.96530699]\n",
      " [2.04542227 0.83131583]\n",
      " [0.9829218  4.33403452]\n",
      " [0.89495545 4.13115907]\n",
      " [0.99067444 4.44921468]\n",
      " [2.1129266  0.87683378]\n",
      " [1.90614176 0.94160283]\n",
      " [1.94482919 0.90288017]\n",
      " [2.1740705  0.92935792]\n",
      " [0.98896129 4.34398626]\n",
      " [2.07193487 0.9611668 ]\n",
      " [1.09929915 4.42402531]\n",
      " [2.10759519 0.88050903]\n",
      " [2.1502096  0.90641878]\n",
      " [1.05237385 4.31595483]\n",
      " [2.16793111 0.78967051]\n",
      " [0.94511483 4.30940386]\n",
      " [1.93272397 0.98209996]\n",
      " [0.91283787 4.26751321]\n",
      " [0.86919482 4.4092325 ]\n",
      " [2.01834934 0.87372574]\n",
      " [0.99176482 4.34160358]\n",
      " [1.129548   4.4507232 ]\n",
      " [0.81325024 4.35006555]\n",
      " [1.07127892 4.28865161]\n",
      " [0.80564306 4.49886487]\n",
      " [0.92530486 4.2599799 ]\n",
      " [2.122497   0.93840984]\n",
      " [0.98084593 4.28506894]\n",
      " [2.27159112 1.03131645]\n",
      " [2.08509134 1.03030225]\n",
      " [1.02283632 4.15016296]\n",
      " [0.85099054 4.38153636]\n",
      " [1.95184324 0.96582311]\n",
      " [0.90902403 4.26783201]\n",
      " [0.94147886 4.31942222]\n",
      " [2.293582   0.99211161]\n",
      " [0.8874915  4.10570768]\n",
      " [0.9375374  4.27355705]]\n",
      "Testing points\n",
      "[[2.1473534  0.92953643]\n",
      " [1.09414804 4.28579484]\n",
      " [2.16523348 0.96319003]\n",
      " [0.81488029 4.2825133 ]\n",
      " [1.01190672 4.37444464]\n",
      " [1.12567799 4.2832715 ]\n",
      " [1.97492656 0.82870868]\n",
      " [1.98131122 1.05196512]\n",
      " [1.93795518 1.09202578]\n",
      " [2.00546428 1.09061687]\n",
      " [2.11779067 0.73745789]\n",
      " [2.01175217 1.08259003]\n",
      " [2.01986813 0.76016853]\n",
      " [1.01650424 4.23530632]\n",
      " [2.09291007 0.78772358]\n",
      " [1.98581074 0.88270021]\n",
      " [2.00971427 0.89941158]\n",
      " [0.88554024 4.30898187]\n",
      " [1.96914495 1.08867016]\n",
      " [0.88672342 4.34247758]\n",
      " [1.98079204 0.81501981]\n",
      " [0.87141478 4.16178553]\n",
      " [1.97827591 0.95158858]\n",
      " [1.92598183 0.92436875]\n",
      " [0.92518956 4.18572411]\n",
      " [0.99709758 4.40145123]\n",
      " [0.97732008 4.48237438]\n",
      " [1.16302588 4.20605954]\n",
      " [2.01390562 0.82291818]\n",
      " [0.84922158 4.400727  ]\n",
      " [1.0627137  4.22957083]\n",
      " [0.7209711  4.36914919]\n",
      " [1.9639853  1.00936529]\n",
      " [1.16458515 4.16901142]\n",
      " [2.14999272 0.88216265]\n",
      " [2.09486819 0.78835751]\n",
      " [0.96594819 4.34484718]\n",
      " [0.85975509 4.39386998]\n",
      " [1.04917913 4.31668562]\n",
      " [1.09021015 4.18030475]\n",
      " [0.97345186 4.34662051]\n",
      " [1.1250953  4.49337625]\n",
      " [2.04844336 1.06899793]\n",
      " [0.88919036 4.24590236]\n",
      " [2.14095058 0.8325611 ]\n",
      " [1.92367678 0.8515052 ]\n",
      " [2.05133924 0.78085431]\n",
      " [1.0206564  4.33715476]\n",
      " [1.99090568 0.67532334]\n",
      " [0.99401269 4.26360923]]\n"
     ]
    }
   ],
   "source": [
    "X_train,X_test,y_train,y_test=train_test_split(X,y,train_size=0.5,test_size=0.5,stratify=y)\n",
    "print('Training data')\n",
    "print('Training points')\n",
    "print(X_train)\n",
    "print('Testing points')\n",
    "print(X_test)\n"
   ]
  },
  {
   "cell_type": "code",
   "execution_count": 16,
   "metadata": {},
   "outputs": [
    {
     "name": "stdout",
     "output_type": "stream",
     "text": [
      "0.5666666666666667\n",
      "0.7333333333333333\n",
      "0.6\n",
      "0.7333333333333333\n",
      "0.7666666666666667\n",
      "0.8\n",
      "0.8333333333333334\n",
      "0.7666666666666667\n",
      "0.7666666666666667\n"
     ]
    }
   ],
   "source": [
    "for k in range(1,10) :\n",
    "    kn=KNeighborsClassifier(n_neighbors=k)\n",
    "    kn.fit(X_train,y_train)\n",
    "    print(kn.score(X_test,y_test)) \n",
    "\n"
   ]
  },
  {
   "cell_type": "code",
   "execution_count": null,
   "metadata": {},
   "outputs": [],
   "source": []
  }
 ],
 "metadata": {
  "kernelspec": {
   "display_name": "Python 3",
   "language": "python",
   "name": "python3"
  },
  "language_info": {
   "codemirror_mode": {
    "name": "ipython",
    "version": 3
   },
   "file_extension": ".py",
   "mimetype": "text/x-python",
   "name": "python",
   "nbconvert_exporter": "python",
   "pygments_lexer": "ipython3",
   "version": "3.5.3rc1"
  }
 },
 "nbformat": 4,
 "nbformat_minor": 2
}
