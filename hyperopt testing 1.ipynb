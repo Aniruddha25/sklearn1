{
 "cells": [
  {
   "cell_type": "code",
   "execution_count": 1,
   "metadata": {},
   "outputs": [
    {
     "name": "stdout",
     "output_type": "stream",
     "text": [
      "{'a': 1.3, 'b': 2.9000000000000004, 'c': 8.6, 'd': 9.0}\n"
     ]
    }
   ],
   "source": [
    "\n",
    "import numpy as np\n",
    "import random\n",
    "import pandas as pd\n",
    "import numpy as np\n",
    "import statsmodels.api as sm\n",
    "from sklearn.metrics import mean_squared_error\n",
    "import matplotlib.pylab as plt\n",
    "import pandas as pd, numpy as np\n",
    "from sklearn.metrics import mean_absolute_error\n",
    "from hyperopt import hp, tpe, STATUS_OK, Trials,fmin\n",
    "import hyperopt\n",
    "import matplotlib.pyplot as plt\n",
    "import math\n",
    "x=np.arange(1,100)\n",
    "y=np.arange(2,200,2)\n",
    "a=0\n",
    "b=0\n",
    "c=0\n",
    "d=0\n",
    "r=c*(x**a)+d*(y**b)\n",
    "z=2.1*(x**2.1)+3.1*(y**3.1)\n",
    "def f(space):\n",
    "    a = space['a']\n",
    "    b= space['b']\n",
    "    c= space['c']\n",
    "    d= space['d']\n",
    "    loss = mean_absolute_error(z,r)\n",
    "    result = {\n",
    "        \"loss\": loss,\n",
    "        \"status\": STATUS_OK,\n",
    "        \"space\": space\n",
    "    }\n",
    "    return result\n",
    "\n",
    "space = {\n",
    "    'a': hp.quniform('a',0,10,0.1),\n",
    "    'b': hp.quniform('b',0,10,0.1),\n",
    "    'c': hp.quniform('c',0,10,0.1),\n",
    "    'd': hp.quniform('d',0,10,0.1),\n",
    "    \n",
    "}\n",
    "\n",
    "trials = Trials()\n",
    "\n",
    "best = fmin(\n",
    "    fn=f,\n",
    "    space=space,\n",
    "    algo=tpe.suggest,\n",
    "    trials=trials,\n",
    "    max_evals=2000\n",
    ")\n",
    "print(best)\n",
    "\n",
    "\n",
    "\n",
    "\n"
   ]
  },
  {
   "cell_type": "code",
   "execution_count": null,
   "metadata": {},
   "outputs": [],
   "source": [
    "\n"
   ]
  },
  {
   "cell_type": "code",
   "execution_count": null,
   "metadata": {},
   "outputs": [],
   "source": []
  },
  {
   "cell_type": "code",
   "execution_count": null,
   "metadata": {},
   "outputs": [],
   "source": []
  },
  {
   "cell_type": "code",
   "execution_count": null,
   "metadata": {},
   "outputs": [],
   "source": []
  }
 ],
 "metadata": {
  "kernelspec": {
   "display_name": "Python 3",
   "language": "python",
   "name": "python3"
  },
  "language_info": {
   "codemirror_mode": {
    "name": "ipython",
    "version": 3
   },
   "file_extension": ".py",
   "mimetype": "text/x-python",
   "name": "python",
   "nbconvert_exporter": "python",
   "pygments_lexer": "ipython3",
   "version": "3.7.0"
  }
 },
 "nbformat": 4,
 "nbformat_minor": 2
}
