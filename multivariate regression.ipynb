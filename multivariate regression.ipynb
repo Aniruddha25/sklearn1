{
 "cells": [
  {
   "cell_type": "code",
   "execution_count": 4,
   "metadata": {},
   "outputs": [
    {
     "data": {
      "image/png": "[encoded data removed]",
      "text/plain": [
       "<Figure size 432x288 with 1 Axes>"
      ]
     },
     "metadata": {},
     "output_type": "display_data"
    }
   ],
   "source": [
    "import numpy as np\n",
    "import pandas as pd\n",
    "from sklearn.linear_model import Ridge\n",
    "from sklearn.preprocessing import PolynomialFeatures\n",
    "from sklearn.pipeline import make_pipeline\n",
    "from pandas.plotting import bootstrap_plot\n",
    "from sklearn.feature_selection import f_regression, mutual_info_regression\n",
    "import statsmodels.api as sm\n",
    "from sklearn.linear_model import LogisticRegression\n",
    "\n",
    "d=pd.read_excel('House price.xlsx')\n",
    "n= 1                  #int(input('enter the degree'))\n",
    "a=10#int(input('enter the distance'))\n",
    "b=4#int(input('enter the rooms'))\n",
    "c=800#int(input('enter the Carpet area'))\n",
    "\n",
    "\n",
    "\n",
    "model=make_pipeline(PolynomialFeatures(degree=n), Ridge(alpha=0.5))\n",
    "model.fit(d[['distance','rooms','Carpet area']],d['Home price in crores'])\n",
    "\n",
    "\n",
    "model.predict([[a,b,c]])\n",
    "k=d[['distance','rooms','Carpet area']]\n",
    "import matplotlib.pyplot as plt\n",
    "%matplotlib inline\n",
    "plt.plot(d['Carpet area'],model.predict(k))\n",
    "plt.show()\n",
    "\n",
    "\n",
    "\n",
    "\n",
    "\n",
    "\n",
    "\n",
    "\n",
    "\n"
   ]
  },
  {
   "cell_type": "code",
   "execution_count": 5,
   "metadata": {},
   "outputs": [
    {
     "name": "stdout",
     "output_type": "stream",
     "text": [
      "0     2.386847\n",
      "1     1.058399\n",
      "2     1.035873\n",
      "3     1.095943\n",
      "4     1.523344\n",
      "5     0.604718\n",
      "6     1.260538\n",
      "7     0.630998\n",
      "8     1.058399\n",
      "9     0.844400\n",
      "10    2.124042\n",
      "11    2.438812\n",
      "12    0.668542\n",
      "13    0.668542\n",
      "14    0.683559\n",
      "15    1.387590\n",
      "16    0.923242\n",
      "17    1.199872\n",
      "18    1.695236\n",
      "19    1.116143\n",
      "20    1.243927\n",
      "21    0.794461\n",
      "22    1.154283\n",
      "23    0.904896\n",
      "24    0.534040\n",
      "25    1.227635\n",
      "26    0.557027\n",
      "27    0.695572\n",
      "28    0.284921\n",
      "dtype: float64\n"
     ]
    },
    {
     "data": {
      "text/html": [
       "<table class=\"simpletable\">\n",
       "<caption>OLS Regression Results</caption>\n",
       "<tr>\n",
       "  <th>Dep. Variable:</th>            <td>y</td>        <th>  R-squared:         </th> <td>   0.985</td>\n",
       "</tr>\n",
       "<tr>\n",
       "  <th>Model:</th>                   <td>OLS</td>       <th>  Adj. R-squared:    </th> <td>   0.983</td>\n",
       "</tr>\n",
       "<tr>\n",
       "  <th>Method:</th>             <td>Least Squares</td>  <th>  F-statistic:       </th> <td>   554.7</td>\n",
       "</tr>\n",
       "<tr>\n",
       "  <th>Date:</th>             <td>Sun, 15 Jul 2018</td> <th>  Prob (F-statistic):</th> <td>1.12e-23</td>\n",
       "</tr>\n",
       "<tr>\n",
       "  <th>Time:</th>                 <td>19:26:12</td>     <th>  Log-Likelihood:    </th> <td>  13.529</td>\n",
       "</tr>\n",
       "<tr>\n",
       "  <th>No. Observations:</th>      <td>    29</td>      <th>  AIC:               </th> <td>  -21.06</td>\n",
       "</tr>\n",
       "<tr>\n",
       "  <th>Df Residuals:</th>          <td>    26</td>      <th>  BIC:               </th> <td>  -16.96</td>\n",
       "</tr>\n",
       "<tr>\n",
       "  <th>Df Model:</th>              <td>     3</td>      <th>                     </th>     <td> </td>   \n",
       "</tr>\n",
       "<tr>\n",
       "  <th>Covariance Type:</th>      <td>nonrobust</td>    <th>                     </th>     <td> </td>   \n",
       "</tr>\n",
       "</table>\n",
       "<table class=\"simpletable\">\n",
       "<tr>\n",
       "       <td></td>          <th>coef</th>     <th>std err</th>      <th>t</th>      <th>P>|t|</th>  <th>[0.025</th>    <th>0.975]</th>  \n",
       "</tr>\n",
       "<tr>\n",
       "  <th>distance</th>    <td>   -0.0209</td> <td>    0.004</td> <td>   -4.765</td> <td> 0.000</td> <td>   -0.030</td> <td>   -0.012</td>\n",
       "</tr>\n",
       "<tr>\n",
       "  <th>rooms</th>       <td>    0.1271</td> <td>    0.020</td> <td>    6.338</td> <td> 0.000</td> <td>    0.086</td> <td>    0.168</td>\n",
       "</tr>\n",
       "<tr>\n",
       "  <th>Carpet area</th> <td>    0.0008</td> <td> 6.85e-05</td> <td>   10.962</td> <td> 0.000</td> <td>    0.001</td> <td>    0.001</td>\n",
       "</tr>\n",
       "</table>\n",
       "<table class=\"simpletable\">\n",
       "<tr>\n",
       "  <th>Omnibus:</th>       <td> 1.248</td> <th>  Durbin-Watson:     </th> <td>   1.523</td>\n",
       "</tr>\n",
       "<tr>\n",
       "  <th>Prob(Omnibus):</th> <td> 0.536</td> <th>  Jarque-Bera (JB):  </th> <td>   1.196</td>\n",
       "</tr>\n",
       "<tr>\n",
       "  <th>Skew:</th>          <td> 0.396</td> <th>  Prob(JB):          </th> <td>   0.550</td>\n",
       "</tr>\n",
       "<tr>\n",
       "  <th>Kurtosis:</th>      <td> 2.398</td> <th>  Cond. No.          </th> <td>    769.</td>\n",
       "</tr>\n",
       "</table><br/><br/>Warnings:<br/>[1] Standard Errors assume that the covariance matrix of the errors is correctly specified."
      ],
      "text/plain": [
       "<class 'statsmodels.iolib.summary.Summary'>\n",
       "\"\"\"\n",
       "                            OLS Regression Results                            \n",
       "==============================================================================\n",
       "Dep. Variable:                      y   R-squared:                       0.985\n",
       "Model:                            OLS   Adj. R-squared:                  0.983\n",
       "Method:                 Least Squares   F-statistic:                     554.7\n",
       "Date:                Sun, 15 Jul 2018   Prob (F-statistic):           1.12e-23\n",
       "Time:                        19:26:12   Log-Likelihood:                 13.529\n",
       "No. Observations:                  29   AIC:                            -21.06\n",
       "Df Residuals:                      26   BIC:                            -16.96\n",
       "Df Model:                           3                                         \n",
       "Covariance Type:            nonrobust                                         \n",
       "===============================================================================\n",
       "                  coef    std err          t      P>|t|      [0.025      0.975]\n",
       "-------------------------------------------------------------------------------\n",
       "distance       -0.0209      0.004     -4.765      0.000      -0.030      -0.012\n",
       "rooms           0.1271      0.020      6.338      0.000       0.086       0.168\n",
       "Carpet area     0.0008   6.85e-05     10.962      0.000       0.001       0.001\n",
       "==============================================================================\n",
       "Omnibus:                        1.248   Durbin-Watson:                   1.523\n",
       "Prob(Omnibus):                  0.536   Jarque-Bera (JB):                1.196\n",
       "Skew:                           0.396   Prob(JB):                        0.550\n",
       "Kurtosis:                       2.398   Cond. No.                         769.\n",
       "==============================================================================\n",
       "\n",
       "Warnings:\n",
       "[1] Standard Errors assume that the covariance matrix of the errors is correctly specified.\n",
       "\"\"\""
      ]
     },
     "execution_count": 5,
     "metadata": {},
     "output_type": "execute_result"
    }
   ],
   "source": [
    "model2= sm.OLS(model.predict(k),k).fit()\n",
    "print(model2.predict(k))\n",
    "model2.summary()\n",
    "\n"
   ]
  },
  {
   "cell_type": "code",
   "execution_count": 5,
   "metadata": {},
   "outputs": [
    {
     "data": {
      "text/plain": [
       "array([2.48526923])"
      ]
     },
     "execution_count": 5,
     "metadata": {},
     "output_type": "execute_result"
    }
   ],
   "source": [
    "model.predict([[15,6,2400]])"
   ]
  },
  {
   "cell_type": "code",
   "execution_count": 1,
   "metadata": {},
   "outputs": [
    {
     "ename": "NameError",
     "evalue": "name 'LogisticRegression' is not defined",
     "output_type": "error",
     "traceback": [
      "\u001b[1;31m---------------------------------------------------------------------------\u001b[0m",
      "\u001b[1;31mNameError\u001b[0m                                 Traceback (most recent call last)",
      "\u001b[1;32m<ipython-input-1-9b177f7b2231>\u001b[0m in \u001b[0;36m<module>\u001b[1;34m()\u001b[0m\n\u001b[1;32m----> 1\u001b[1;33m \u001b[0mmodel3\u001b[0m\u001b[1;33m=\u001b[0m\u001b[0mLogisticRegression\u001b[0m\u001b[1;33m(\u001b[0m\u001b[1;33m)\u001b[0m\u001b[1;33m\u001b[0m\u001b[0m\n\u001b[0m\u001b[0;32m      2\u001b[0m \u001b[0mmodel3\u001b[0m\u001b[1;33m.\u001b[0m\u001b[0mpredict\u001b[0m\u001b[1;33m(\u001b[0m\u001b[0mk\u001b[0m\u001b[1;33m)\u001b[0m\u001b[1;33m\u001b[0m\u001b[0m\n",
      "\u001b[1;31mNameError\u001b[0m: name 'LogisticRegression' is not defined"
     ]
    }
   ],
   "source": []
  },
  {
   "cell_type": "code",
   "execution_count": null,
   "metadata": {},
   "outputs": [],
   "source": []
  }
 ],
 "metadata": {
  "kernelspec": {
   "display_name": "Python 3",
   "language": "python",
   "name": "python3"
  },
  "language_info": {
   "codemirror_mode": {
    "name": "ipython",
    "version": 3
   },
   "file_extension": ".py",
   "mimetype": "text/x-python",
   "name": "python",
   "nbconvert_exporter": "python",
   "pygments_lexer": "ipython3",
   "version": "3.5.3rc1"
  }
 },
 "nbformat": 4,
 "nbformat_minor": 2
}
