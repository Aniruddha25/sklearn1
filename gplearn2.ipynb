{
 "cells": [
  {
   "cell_type": "code",
   "execution_count": 27,
   "metadata": {},
   "outputs": [
    {
     "name": "stdout",
     "output_type": "stream",
     "text": [
      "    |    Population Average   |             Best Individual              |\n",
      "---- ------------------------- ------------------------------------------ ----------\n",
      " Gen   Length          Fitness   Length          Fitness      OOB Fitness  Time Left\n",
      "   0    23.69 301.3974457163507       23 17.934533433979542              N/A     14.38s\n",
      "   1    29.43 634.0605482488594       84 4.715506648895595              N/A     21.38s\n",
      "   2    38.73 645.8931631211655       13 2.138439277523338              N/A     24.21s\n",
      "   3    37.78 1498.0926776571202       15 1.16271296485938              N/A     24.28s\n",
      "   4    57.19 1631.6267377015088       21 1.1310573357978055              N/A     24.96s\n",
      "   5    40.96 1906.6988153438658       16 0.5680753734065449              N/A     23.77s\n",
      "   6    24.97 714.2092573455742       16 0.5680753734065449              N/A     21.40s\n",
      "   7    17.98 2970.4511377886706       16 0.5680753734065449              N/A     19.05s\n",
      "   8    18.53 295.3569710940351       24 0.09137254584474627              N/A     16.90s\n",
      "   9    20.44 203.92812472119618       24 0.09137254584474627              N/A     15.19s\n",
      "  10    20.99 173.70123797761264       24 0.09137254584474627              N/A     13.65s\n",
      "  11    20.91 197.8178801922734       24 0.09137254584474627              N/A     12.06s\n",
      "  12    23.98 153.08593052174376       24 0.09137254584474627              N/A     10.52s\n",
      "  13     26.1 123.26348775804665       24 0.09137254584474627              N/A      9.03s\n",
      "  14     25.9 188.85161467354257       24 0.09137254584474627              N/A      7.47s\n",
      "  15    24.57 191.79541610061034       24 0.09094460164721774              N/A      6.00s\n",
      "  16     24.4 161.99277023386927       24 0.09094460164721774              N/A      4.49s\n",
      "  17    24.14 118.67253391943133       24 0.09094460164721774              N/A      2.99s\n",
      "  18    24.22 163.82508135204122       24 0.09094460164721774              N/A      1.49s\n",
      "  19    24.17 183.47935806316949       24 0.09094460164721774              N/A      0.00s\n"
     ]
    },
    {
     "data": {
      "text/plain": [
       "0.9999996837463033"
      ]
     },
     "execution_count": 27,
     "metadata": {},
     "output_type": "execute_result"
    }
   ],
   "source": [
    "\n",
    "from gplearn.genetic import SymbolicRegressor\n",
    "from gplearn.functions import make_function\n",
    "from sympy import sympify\n",
    "import matplotlib.pyplot as plt\n",
    "import math\n",
    "import numpy as np\n",
    "import pandas as pd\n",
    "x=np.arange(1,10)\n",
    "X=x[:,np.newaxis]\n",
    "y=x**3+np.sqrt(x)+np.log(x)+5\n",
    "\n",
    "function_set2 = ['add', 'sub', 'mul', 'div','sqrt','log']\n",
    "\n",
    "\n",
    "\n",
    "model=SymbolicRegressor( verbose=1,function_set=function_set2,const_range=(3.0,5.0))\n",
    "\n",
    "model.fit(X,y)\n",
    "model.score(X,y)\n",
    "\n",
    "\n"
   ]
  },
  {
   "cell_type": "code",
   "execution_count": 20,
   "metadata": {},
   "outputs": [
    {
     "name": "stdout",
     "output_type": "stream",
     "text": [
      "add(mul(X0, mul(X0, X0)), add(4.118, log(mul(add(log(sqrt(4.236)), mul(X0, X0)), log(mul(div(add(add(sqrt(4.236), add(sqrt(4.236), X0)), add(sqrt(add(X0, 4.438)), X0)), sub(3.972, 3.705)), sqrt(sqrt(4.236))))))))\n"
     ]
    }
   ],
   "source": [
    "\n",
    "print(model._program)"
   ]
  },
  {
   "cell_type": "code",
   "execution_count": null,
   "metadata": {},
   "outputs": [],
   "source": []
  },
  {
   "cell_type": "code",
   "execution_count": null,
   "metadata": {},
   "outputs": [],
   "source": []
  }
 ],
 "metadata": {
  "kernelspec": {
   "display_name": "Python 3",
   "language": "python",
   "name": "python3"
  },
  "language_info": {
   "codemirror_mode": {
    "name": "ipython",
    "version": 3
   },
   "file_extension": ".py",
   "mimetype": "text/x-python",
   "name": "python",
   "nbconvert_exporter": "python",
   "pygments_lexer": "ipython3",
   "version": "3.5.3rc1"
  }
 },
 "nbformat": 4,
 "nbformat_minor": 2
}
